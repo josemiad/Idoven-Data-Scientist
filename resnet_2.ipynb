{
 "cells": [
  {
   "cell_type": "code",
   "execution_count": null,
   "id": "2e8735cd-7c56-460a-a772-02ba960ae9ff",
   "metadata": {},
   "outputs": [],
   "source": [
    "#!pip install pandas\n",
    "#!pip install matplotlib\n",
    "#!python -m pip install tensorflow\n",
    "#!pip install nvidia-tensorrt\n",
    "#!pip install sagemaker"
   ]
  },
  {
   "cell_type": "code",
   "execution_count": 1,
   "id": "bd33b72e-2b39-446b-aed8-786b9f5ced41",
   "metadata": {},
   "outputs": [
    {
     "name": "stderr",
     "output_type": "stream",
     "text": [
      "2023-02-19 23:49:33.360815: W tensorflow/compiler/xla/stream_executor/platform/default/dso_loader.cc:64] Could not load dynamic library 'libnvinfer.so.7'; dlerror: libnvinfer.so.7: cannot open shared object file: No such file or directory; LD_LIBRARY_PATH: /usr/local/nvidia/lib:/usr/local/nvidia/lib64\n",
      "2023-02-19 23:49:33.362157: W tensorflow/compiler/xla/stream_executor/platform/default/dso_loader.cc:64] Could not load dynamic library 'libnvinfer_plugin.so.7'; dlerror: libnvinfer_plugin.so.7: cannot open shared object file: No such file or directory; LD_LIBRARY_PATH: /usr/local/nvidia/lib:/usr/local/nvidia/lib64\n",
      "2023-02-19 23:49:33.362165: W tensorflow/compiler/tf2tensorrt/utils/py_utils.cc:38] TF-TRT Warning: Cannot dlopen some TensorRT libraries. If you would like to use Nvidia GPU with TensorRT, please make sure the missing libraries mentioned above are installed properly.\n"
     ]
    }
   ],
   "source": [
    "import pandas as pd\n",
    "import numpy as np\n",
    "import ast\n",
    "import matplotlib.pyplot as plt\n",
    "import tensorflow as tf\n",
    "from tensorflow import keras"
   ]
  },
  {
   "cell_type": "code",
   "execution_count": 2,
   "id": "db2e1e35-b000-4138-8f8b-6270a26b4939",
   "metadata": {},
   "outputs": [],
   "source": [
    "sampling_rate=100\n",
    "\n",
    "# Get the size of each sample\n",
    "input_size = (1000,12,1)"
   ]
  },
  {
   "cell_type": "code",
   "execution_count": 3,
   "id": "76c4c3ee-efce-4450-9655-fdaba2ea23d0",
   "metadata": {},
   "outputs": [],
   "source": [
    "# Train\n",
    "X_train = np.load('X_train.npy')\n",
    "y_train = np.load('y_train.npy')\n",
    "# Test\n",
    "X_test = np.load('X_test.npy')\n",
    "y_test = np.load('y_test.npy')"
   ]
  },
  {
   "cell_type": "code",
   "execution_count": 4,
   "id": "f00581fb-face-4284-8bf7-5d96ac71df61",
   "metadata": {},
   "outputs": [],
   "source": [
    "X_train_norm_1 = (X_train - np.min(X_train))/np.ptp(X_train) # [0, 1]\n",
    "X_train_norm_2 = 2.*(X_train - np.min(X_train))/np.ptp(X_train)-1 # [-1,1]"
   ]
  },
  {
   "cell_type": "code",
   "execution_count": 5,
   "id": "207e9b2f-4ffb-4cb7-9ee3-251e633ed0b9",
   "metadata": {},
   "outputs": [],
   "source": [
    "inputs = keras.Input(shape=input_size)"
   ]
  },
  {
   "cell_type": "code",
   "execution_count": 6,
   "id": "51c7125c-61bd-42cf-9208-5a22108fb488",
   "metadata": {},
   "outputs": [],
   "source": [
    "x = keras.layers.Conv2D(64, (7, 7), strides=(2, 2), padding='same')(inputs)\n",
    "x = keras.layers.BatchNormalization()(x)\n",
    "x = keras.layers.Activation('sigmoid')(x)"
   ]
  },
  {
   "cell_type": "code",
   "execution_count": 7,
   "id": "7d18b0f0-0ed3-4d46-975c-8a4567a9b44c",
   "metadata": {},
   "outputs": [],
   "source": [
    "def conv_block(input_tensor, filters, strides):\n",
    "    x = keras.layers.Conv2D(filters, (1, 1), strides=strides)(input_tensor)\n",
    "    x = keras.layers.BatchNormalization()(x)\n",
    "    x = keras.layers.Activation('sigmoid')(x)\n",
    "\n",
    "    x = keras.layers.Conv2D(filters, (3, 3), padding='same')(x)\n",
    "    x = keras.layers.BatchNormalization()(x)\n",
    "    x = keras.layers.Activation('sigmoid')(x)\n",
    "\n",
    "    x = keras.layers.Conv2D(4 * filters, (1, 1))(x)\n",
    "    x = keras.layers.BatchNormalization()(x)\n",
    "\n",
    "    shortcut = keras.layers.Conv2D(4 * filters, (1, 1), strides=strides)(input_tensor)\n",
    "    shortcut = keras.layers.BatchNormalization()(shortcut)\n",
    "\n",
    "    x = keras.layers.add([x, shortcut])\n",
    "    x = keras.layers.Activation('sigmoid')(x)\n",
    "    return x\n",
    "\n",
    "def identity_block(input_tensor, filters):\n",
    "    x = keras.layers.Conv2D(filters, (1, 1))(input_tensor)\n",
    "    x = keras.layers.BatchNormalization()(x)\n",
    "    x = keras.layers.Activation('sigmoid')(x)\n",
    "\n",
    "    x = keras.layers.Conv2D(filters, (3, 3), padding='same')(x)\n",
    "    x = keras.layers.BatchNormalization()(x)\n",
    "    x = keras.layers.Activation('sigmoid')(x)\n",
    "\n",
    "    x = keras.layers.Conv2D(4 * filters, (1, 1))(x)\n",
    "    x = keras.layers.BatchNormalization()(x)\n",
    "\n",
    "    x = keras.layers.add([x, input_tensor])\n",
    "    x = keras.layers.Activation('sigmoid')(x)\n",
    "    return x\n",
    "\n",
    "\n",
    "x = conv_block(x, 64, strides=(1, 1))\n",
    "x = identity_block(x, 64)\n",
    "x = identity_block(x, 64)\n",
    "\n",
    "x = conv_block(x, 128, strides=(2, 2))\n",
    "x = identity_block(x, 128)\n",
    "x = identity_block(x, 128)\n",
    "x = identity_block(x, 128)\n",
    "\n",
    "x = conv_block(x, 256, strides=(2, 2))\n",
    "x = identity_block(x, 256)\n",
    "x = identity_block(x, 256)\n",
    "x = identity_block(x, 256)\n",
    "x = identity_block(x, 256)\n",
    "x = identity_block(x, 256)\n",
    "\n",
    "x = conv_block(x, 512, strides=(2,2))\n",
    "x = identity_block(x, 512)\n",
    "x = identity_block(x, 512)\n",
    "\n",
    "x = keras.layers.GlobalAveragePooling2D()(x)\n",
    "x = keras.layers.Dense(5, activation='sigmoid')(x)"
   ]
  },
  {
   "cell_type": "code",
   "execution_count": 11,
   "id": "dd7e6527-84e2-4598-81ce-b2e878668377",
   "metadata": {},
   "outputs": [],
   "source": [
    "model = keras.Model(inputs=inputs, outputs=x, name='resnet2')\n",
    "model.compile(optimizer='adadelta', loss='binary_crossentropy', metrics=['accuracy'])"
   ]
  },
  {
   "cell_type": "code",
   "execution_count": 12,
   "id": "9c12d5f7-999d-43b5-9d38-dd281e54db38",
   "metadata": {},
   "outputs": [],
   "source": [
    "X_test_norm_1 = (X_test - np.min(X_train))/np.ptp(X_train) # [0, 1]"
   ]
  },
  {
   "cell_type": "code",
   "execution_count": null,
   "id": "819154d6-cd80-476b-ada8-7a002e106727",
   "metadata": {},
   "outputs": [
    {
     "name": "stdout",
     "output_type": "stream",
     "text": [
      "Epoch 1/60\n",
      "613/613 [==============================] - 250s 359ms/step - loss: 0.6065 - accuracy: 0.4821 - val_loss: 0.7831 - val_accuracy: 0.1720\n",
      "Epoch 2/60\n",
      "613/613 [==============================] - 224s 365ms/step - loss: 0.4470 - accuracy: 0.5634 - val_loss: 0.4731 - val_accuracy: 0.4682\n",
      "Epoch 3/60\n",
      "613/613 [==============================] - 222s 363ms/step - loss: 0.3977 - accuracy: 0.6089 - val_loss: 0.4854 - val_accuracy: 0.5350\n",
      "Epoch 4/60\n",
      "613/613 [==============================] - 221s 361ms/step - loss: 0.3743 - accuracy: 0.6305 - val_loss: 0.3916 - val_accuracy: 0.5942\n",
      "Epoch 5/60\n",
      "613/613 [==============================] - 221s 361ms/step - loss: 0.3595 - accuracy: 0.6488 - val_loss: 0.4861 - val_accuracy: 0.5523\n",
      "Epoch 6/60\n",
      "613/613 [==============================] - 222s 362ms/step - loss: 0.3492 - accuracy: 0.6569 - val_loss: 0.4540 - val_accuracy: 0.5537\n",
      "Epoch 7/60\n",
      "613/613 [==============================] - 222s 362ms/step - loss: 0.3403 - accuracy: 0.6677 - val_loss: 0.4567 - val_accuracy: 0.5500\n",
      "Epoch 8/60\n",
      "613/613 [==============================] - 222s 362ms/step - loss: 0.3326 - accuracy: 0.6776 - val_loss: 0.3876 - val_accuracy: 0.5300\n",
      "Epoch 9/60\n",
      "613/613 [==============================] - 222s 363ms/step - loss: 0.3267 - accuracy: 0.6818 - val_loss: 0.4448 - val_accuracy: 0.4927\n",
      "Epoch 10/60\n",
      "613/613 [==============================] - 223s 363ms/step - loss: 0.3201 - accuracy: 0.6869 - val_loss: 0.4299 - val_accuracy: 0.5823\n",
      "Epoch 11/60\n",
      "613/613 [==============================] - 223s 363ms/step - loss: 0.3159 - accuracy: 0.6918 - val_loss: 0.3370 - val_accuracy: 0.6706\n",
      "Epoch 12/60\n",
      "613/613 [==============================] - 222s 362ms/step - loss: 0.3097 - accuracy: 0.6972 - val_loss: 0.4499 - val_accuracy: 0.5742\n",
      "Epoch 13/60\n",
      "613/613 [==============================] - 222s 361ms/step - loss: 0.3055 - accuracy: 0.6976 - val_loss: 0.4645 - val_accuracy: 0.3844\n",
      "Epoch 14/60\n",
      "613/613 [==============================] - 222s 362ms/step - loss: 0.3015 - accuracy: 0.7051 - val_loss: 0.3387 - val_accuracy: 0.6379\n",
      "Epoch 15/60\n",
      "613/613 [==============================] - 222s 363ms/step - loss: 0.2991 - accuracy: 0.7035 - val_loss: 0.3750 - val_accuracy: 0.6670\n",
      "Epoch 16/60\n",
      "613/613 [==============================] - 222s 362ms/step - loss: 0.2958 - accuracy: 0.7079 - val_loss: 0.6156 - val_accuracy: 0.5833\n",
      "Epoch 17/60\n",
      "613/613 [==============================] - 221s 361ms/step - loss: 0.2912 - accuracy: 0.7112 - val_loss: 0.5005 - val_accuracy: 0.4227\n",
      "Epoch 18/60\n",
      "613/613 [==============================] - 221s 360ms/step - loss: 0.2901 - accuracy: 0.7102 - val_loss: 0.4168 - val_accuracy: 0.5773\n",
      "Epoch 19/60\n",
      "613/613 [==============================] - 220s 359ms/step - loss: 0.2877 - accuracy: 0.7123 - val_loss: 0.3798 - val_accuracy: 0.5632\n",
      "Epoch 20/60\n",
      "613/613 [==============================] - 220s 359ms/step - loss: 0.2844 - accuracy: 0.7146 - val_loss: 0.4434 - val_accuracy: 0.6106\n",
      "Epoch 21/60\n",
      "613/613 [==============================] - 220s 359ms/step - loss: 0.2819 - accuracy: 0.7154 - val_loss: 0.5369 - val_accuracy: 0.3530\n",
      "Epoch 22/60\n",
      "613/613 [==============================] - 221s 361ms/step - loss: 0.2806 - accuracy: 0.7187 - val_loss: 0.5277 - val_accuracy: 0.4559\n",
      "Epoch 23/60\n",
      "613/613 [==============================] - 221s 360ms/step - loss: 0.2773 - accuracy: 0.7212 - val_loss: 0.4335 - val_accuracy: 0.5241\n",
      "Epoch 24/60\n",
      "613/613 [==============================] - 221s 360ms/step - loss: 0.2736 - accuracy: 0.7240 - val_loss: 0.6161 - val_accuracy: 0.2898\n",
      "Epoch 25/60\n",
      "535/613 [=========================>....] - ETA: 27s - loss: 0.2708 - accuracy: 0.7246"
     ]
    }
   ],
   "source": [
    "history = model.fit(x=X_train_norm_1, y=y_train,\n",
    "                    batch_size=32,\n",
    "                    epochs=60, validation_data=(X_test_norm_1, y_test))"
   ]
  },
  {
   "cell_type": "code",
   "execution_count": null,
   "id": "19735fb5-c9aa-473c-96ba-c1b37b09a838",
   "metadata": {},
   "outputs": [],
   "source": [
    "plt.plot(history.history['accuracy'])\n",
    "plt.plot(history.history['val_accuracy'])\n",
    "plt.title('Precisión del modelo')\n",
    "plt.ylabel('Precisión')\n",
    "plt.xlabel('Época')\n",
    "plt.legend(['Entrenamiento', 'Validación'], loc='upper left')\n",
    "plt.show()"
   ]
  },
  {
   "cell_type": "code",
   "execution_count": null,
   "id": "96e62673-9ac7-481c-967e-1508f10fee12",
   "metadata": {},
   "outputs": [],
   "source": [
    "# Evaluate the model on the test data using `evaluate`\n",
    "print(\"Evaluate on test data\")\n",
    "#X_test_norm = 2.*(X_test - np.min(X_train))/np.ptp(X_train)-1 # [-1,1]\n",
    "X_test_norm = (X_test - np.min(X_train))/np.ptp(X_train) # [0, 1]\n",
    "results = model.evaluate(X_test_norm, y_test)\n",
    "print(\"test loss, test acc:\", results)"
   ]
  },
  {
   "cell_type": "code",
   "execution_count": null,
   "id": "44ed1fbe-d559-4a1b-99e3-a0ef076322ef",
   "metadata": {},
   "outputs": [],
   "source": [
    "model.save(\"resnet_model_2\")"
   ]
  },
  {
   "cell_type": "code",
   "execution_count": null,
   "id": "24c1f4bb-bd0f-4b3f-bd90-b6abae2ca664",
   "metadata": {},
   "outputs": [],
   "source": [
    "\n"
   ]
  }
 ],
 "metadata": {
  "kernelspec": {
   "display_name": "Python 3",
   "language": "python",
   "name": "python3"
  },
  "language_info": {
   "codemirror_mode": {
    "name": "ipython",
    "version": 3
   },
   "file_extension": ".py",
   "mimetype": "text/x-python",
   "name": "python",
   "nbconvert_exporter": "python",
   "pygments_lexer": "ipython3",
   "version": "3.6.9"
  }
 },
 "nbformat": 4,
 "nbformat_minor": 5
}
