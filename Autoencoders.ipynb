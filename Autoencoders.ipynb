{
  "nbformat": 4,
  "nbformat_minor": 0,
  "metadata": {
    "colab": {
      "provenance": []
    },
    "kernelspec": {
      "name": "python3",
      "display_name": "Python 3"
    },
    "language_info": {
      "name": "python"
    }
  },
  "cells": [
    {
      "cell_type": "code",
      "execution_count": null,
      "metadata": {
        "id": "kfEkFpwu4W_v"
      },
      "outputs": [],
      "source": [
        "import pandas as pd\n",
        "import numpy as np\n",
        "import ast\n",
        "import matplotlib.pyplot as plt\n",
        "import tensorflow as tf\n",
        "from tensorflow import keras\n",
        "from tensorflow.keras import layers"
      ]
    },
    {
      "cell_type": "code",
      "source": [
        "from google.colab import drive\n",
        "drive.mount('drive')\n",
        "path = '/content/drive/MyDrive/idoven/'"
      ],
      "metadata": {
        "colab": {
          "base_uri": "https://localhost:8080/"
        },
        "id": "Ri76TLVz5TFD",
        "outputId": "034639f5-dd70-4277-aeb7-251b4cd2ed60"
      },
      "execution_count": null,
      "outputs": [
        {
          "output_type": "stream",
          "name": "stdout",
          "text": [
            "Drive already mounted at drive; to attempt to forcibly remount, call drive.mount(\"drive\", force_remount=True).\n"
          ]
        }
      ]
    },
    {
      "cell_type": "code",
      "source": [
        "from numpy import load\n",
        "\n",
        "# Train\n",
        "X_train = load(path+'X_train.npy')\n",
        "y_train = load(path+'y_train.npy')\n",
        "# Test\n",
        "X_test = load(path+'X_test.npy')\n",
        "y_test = load(path+'y_test.npy')\n",
        "\n",
        "normal_indices = load(path+'normal_ecg_indices.npy')"
      ],
      "metadata": {
        "id": "KlJ4RyCy5Zyr"
      },
      "execution_count": null,
      "outputs": []
    },
    {
      "cell_type": "code",
      "source": [
        "X_train_normal_samples = np.take(X_train, normal_indices, axis=0)"
      ],
      "metadata": {
        "id": "CVMOCuMV5_Fs"
      },
      "execution_count": null,
      "outputs": []
    },
    {
      "cell_type": "code",
      "source": [
        "X_train_normal_samples.shape"
      ],
      "metadata": {
        "colab": {
          "base_uri": "https://localhost:8080/"
        },
        "id": "6GcLina96Hlh",
        "outputId": "3722cf9f-699f-4ddf-8aa1-12b29c2704b1"
      },
      "execution_count": null,
      "outputs": [
        {
          "output_type": "execute_result",
          "data": {
            "text/plain": [
              "(8526, 1000, 12)"
            ]
          },
          "metadata": {},
          "execution_count": 12
        }
      ]
    },
    {
      "cell_type": "code",
      "source": [
        "sampling_rate=100\n",
        "\n",
        "# Get the size of each sample\n",
        "input_size = (1000,12)"
      ],
      "metadata": {
        "id": "vjzN6y4e4bir"
      },
      "execution_count": null,
      "outputs": []
    },
    {
      "cell_type": "code",
      "source": [
        "# Define la arquitectura del autoencoder\n",
        "input_signal = keras.Input(shape=input_size)\n",
        "encoded = layers.Dense(1024, activation='tanh')(input_signal)\n",
        "encoded = layers.Dense(512, activation='tanh')(encoded)\n",
        "encoded = layers.Dense(256, activation='tanh')(encoded)\n",
        "\n",
        "decoded = layers.Dense(512, activation='tanh')(encoded)\n",
        "decoded = layers.Dense(12, activation='tanh')(decoded)\n"
      ],
      "metadata": {
        "id": "24TjcyXd4j39"
      },
      "execution_count": null,
      "outputs": []
    },
    {
      "cell_type": "code",
      "source": [
        "# Crea el modelo autoencoder\n",
        "autoencoder = keras.Model(input_signal, decoded)"
      ],
      "metadata": {
        "id": "nqpmq5g846oE"
      },
      "execution_count": null,
      "outputs": []
    },
    {
      "cell_type": "code",
      "source": [
        "# Compila el modelo\n",
        "autoencoder.compile(optimizer='adam', loss='mse')"
      ],
      "metadata": {
        "id": "SuAHKIo55HOs"
      },
      "execution_count": null,
      "outputs": []
    },
    {
      "cell_type": "code",
      "source": [
        "from sklearn.model_selection import train_test_split\n",
        "x_train_normal, x_val_normal, _, _ = train_test_split(X_train_normal_samples, X_train_normal_samples, test_size=0.2, random_state=42)"
      ],
      "metadata": {
        "id": "FnaAiThp60Bj"
      },
      "execution_count": null,
      "outputs": []
    },
    {
      "cell_type": "code",
      "source": [
        "x_train_normal.shape"
      ],
      "metadata": {
        "colab": {
          "base_uri": "https://localhost:8080/"
        },
        "id": "JtlCHpad738X",
        "outputId": "790563f4-5147-4e8b-c42b-03b0a10e35d3"
      },
      "execution_count": null,
      "outputs": [
        {
          "output_type": "execute_result",
          "data": {
            "text/plain": [
              "(6820, 1000, 12)"
            ]
          },
          "metadata": {},
          "execution_count": 18
        }
      ]
    },
    {
      "cell_type": "code",
      "source": [
        "# Entrena el modelo\n",
        "autoencoder.fit(x_train_normal, x_train_normal, epochs=10, batch_size=32, validation_data=(x_val_normal, x_val_normal))"
      ],
      "metadata": {
        "colab": {
          "base_uri": "https://localhost:8080/"
        },
        "id": "PBNYLAoq6rt0",
        "outputId": "aed9a4e1-ae8c-4b0b-a76a-7647336f6217"
      },
      "execution_count": null,
      "outputs": [
        {
          "output_type": "stream",
          "name": "stdout",
          "text": [
            "Epoch 1/10\n",
            "214/214 [==============================] - 861s 4s/step - loss: 0.0103 - val_loss: 0.0034\n",
            "Epoch 2/10\n",
            "214/214 [==============================] - 844s 4s/step - loss: 0.0095 - val_loss: 0.0042\n",
            "Epoch 3/10\n",
            "214/214 [==============================] - 850s 4s/step - loss: 0.0094 - val_loss: 0.0033\n",
            "Epoch 4/10\n",
            "214/214 [==============================] - 836s 4s/step - loss: 0.0096 - val_loss: 0.0033\n",
            "Epoch 5/10\n",
            "214/214 [==============================] - 836s 4s/step - loss: 0.0097 - val_loss: 0.0032\n",
            "Epoch 6/10\n",
            "214/214 [==============================] - 835s 4s/step - loss: 0.0094 - val_loss: 0.0035\n",
            "Epoch 7/10\n",
            "214/214 [==============================] - 838s 4s/step - loss: 0.0095 - val_loss: 0.0032\n",
            "Epoch 8/10\n",
            "214/214 [==============================] - 836s 4s/step - loss: 0.0095 - val_loss: 0.0035\n",
            "Epoch 9/10\n",
            "214/214 [==============================] - 842s 4s/step - loss: 0.0096 - val_loss: 0.0032\n",
            "Epoch 10/10\n",
            "214/214 [==============================] - 851s 4s/step - loss: 0.0096 - val_loss: 0.0042\n"
          ]
        },
        {
          "output_type": "execute_result",
          "data": {
            "text/plain": [
              "<keras.callbacks.History at 0x7faf0a81cb20>"
            ]
          },
          "metadata": {},
          "execution_count": 19
        }
      ]
    },
    {
      "cell_type": "code",
      "source": [
        "autoencoder.save(\"autoencoder_model\")"
      ],
      "metadata": {
        "colab": {
          "base_uri": "https://localhost:8080/"
        },
        "id": "o6HBh2XMNY3p",
        "outputId": "bbc9885e-c76c-4653-fe2a-abcd59075903"
      },
      "execution_count": null,
      "outputs": [
        {
          "output_type": "stream",
          "name": "stderr",
          "text": [
            "WARNING:absl:Found untraced functions such as _update_step_xla while saving (showing 1 of 1). These functions will not be directly callable after loading.\n"
          ]
        }
      ]
    },
    {
      "cell_type": "code",
      "source": [
        "\n",
        "# Calcula el error de reconstrucción para las señales de prueba\n",
        "reconstructed = autoencoder.predict(X_train_normal_samples)\n",
        "mse = np.mean(np.power(X_train_normal_samples - reconstructed, 2), axis=1)"
      ],
      "metadata": {
        "colab": {
          "base_uri": "https://localhost:8080/"
        },
        "id": "njBckAAk7ekc",
        "outputId": "987fe52f-0261-4089-94af-6e4e5e08daa9"
      },
      "execution_count": null,
      "outputs": [
        {
          "output_type": "stream",
          "name": "stdout",
          "text": [
            "267/267 [==============================] - 340s 1s/step\n"
          ]
        }
      ]
    },
    {
      "cell_type": "code",
      "source": [
        "# Establece un umbral para la detección de anomalías\n",
        "threshold = np.mean(mse) + 2 * np.std(mse)"
      ],
      "metadata": {
        "id": "BqCcfOMd9JpX"
      },
      "execution_count": null,
      "outputs": []
    },
    {
      "cell_type": "code",
      "source": [
        "sample = X_train[89].reshape((1, 1000, 12))\n",
        "anomaly_sample = autoencoder.predict(sample)"
      ],
      "metadata": {
        "colab": {
          "base_uri": "https://localhost:8080/"
        },
        "id": "wJVSqNev9L5E",
        "outputId": "e40eb7c3-669f-4d2f-e7fa-107f88171fb4"
      },
      "execution_count": null,
      "outputs": [
        {
          "output_type": "stream",
          "name": "stdout",
          "text": [
            "1/1 [==============================] - 0s 64ms/step\n"
          ]
        }
      ]
    },
    {
      "cell_type": "code",
      "source": [
        "mse = np.mean(np.power(sample - anomaly_sample, 2), axis=1)\n",
        "print(mse)"
      ],
      "metadata": {
        "colab": {
          "base_uri": "https://localhost:8080/"
        },
        "id": "-HatEL0QjWZh",
        "outputId": "71a51d68-930a-41b2-da05-f68a8631d26e"
      },
      "execution_count": null,
      "outputs": [
        {
          "output_type": "stream",
          "name": "stdout",
          "text": [
            "[[0.00151972 0.00158307 0.00112884 0.00140036 0.0003386  0.0011389\n",
            "  0.01683282 0.02036681 0.01498682 0.02587847 0.02474061 0.01705785]]\n"
          ]
        }
      ]
    },
    {
      "cell_type": "code",
      "source": [],
      "metadata": {
        "id": "Qi3R3RH0kNGJ"
      },
      "execution_count": null,
      "outputs": []
    }
  ]
}