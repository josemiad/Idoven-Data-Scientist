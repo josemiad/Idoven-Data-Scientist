{
 "cells": [
  {
   "cell_type": "code",
   "execution_count": 1,
   "id": "11d0862b",
   "metadata": {},
   "outputs": [],
   "source": [
    "# !pip install colorama\n",
    "# !pip install numba\n",
    "# !pip install heartpy\n",
    "#!pip install wfdb"
   ]
  },
  {
   "cell_type": "code",
   "execution_count": 16,
   "id": "cf8ee8a6",
   "metadata": {},
   "outputs": [],
   "source": [
    "import pandas as pd\n",
    "import numpy as np\n",
    "import wfdb\n",
    "import ast\n",
    "import numba as nb\n",
    "import heartpy as hp\n",
    "import matplotlib.pyplot as plt"
   ]
  },
  {
   "cell_type": "code",
   "execution_count": 17,
   "id": "15750f27",
   "metadata": {},
   "outputs": [
    {
     "name": "stdout",
     "output_type": "stream",
     "text": [
      "Sample size = (1000, 12)\n"
     ]
    }
   ],
   "source": [
    "path = '/home/josemiguelarana/Documents/IDOVEN/Idoven-Data-Scientist/data/ptbxl/'\n",
    "sampling_rate=100\n",
    "\n",
    "# Get the size of each sample\n",
    "num_samples = 21801 # Numbers of ECG files\n",
    "data_ecg_lr_1 = wfdb.rdsamp(path+'records100/00000/00001_lr')\n",
    "data_ecg_lr_size = data_ecg_lr_1[0].shape # Shape of the ECG lr file\n",
    "print(\"Sample size = \" + str(data_ecg_lr_size))"
   ]
  },
  {
   "cell_type": "code",
   "execution_count": 18,
   "id": "8e0692f9",
   "metadata": {},
   "outputs": [],
   "source": [
    "@nb.jit(parallel=True)\n",
    "def load_raw_data(file_names, path):\n",
    "    data = np.empty((len(file_names), data_ecg_lr_size[0], data_ecg_lr_size[1]), dtype=np.float32)\n",
    "    for i in nb.prange(len(file_names)):\n",
    "        f = file_names[i]\n",
    "        data[i] = wfdb.rdsamp(path+f)[0]\n",
    "    return data"
   ]
  },
  {
   "cell_type": "code",
   "execution_count": 19,
   "id": "e6e27aac",
   "metadata": {},
   "outputs": [],
   "source": [
    "# load and convert annotation data\n",
    "Y = pd.read_csv(path+'ptbxl_database.csv', index_col='ecg_id')\n",
    "Y.scp_codes = Y.scp_codes.apply(lambda x: ast.literal_eval(x))"
   ]
  },
  {
   "cell_type": "code",
   "execution_count": 20,
   "id": "0853bc77",
   "metadata": {},
   "outputs": [
    {
     "name": "stderr",
     "output_type": "stream",
     "text": [
      "<ipython-input-18-1881e5a82942>:1: NumbaWarning: \n",
      "Compilation is falling back to object mode WITH looplifting enabled because Function \"load_raw_data\" failed type inference due to: non-precise type array(pyobject, 1d, C)\n",
      "During: typing of argument at <ipython-input-18-1881e5a82942> (3)\n",
      "\n",
      "File \"<ipython-input-18-1881e5a82942>\", line 3:\n",
      "def load_raw_data(file_names, path):\n",
      "    data = np.empty((len(file_names), data_ecg_lr_size[0], data_ecg_lr_size[1]), dtype=np.float32)\n",
      "    ^\n",
      "\n",
      "  @nb.jit(parallel=True)\n",
      "<ipython-input-18-1881e5a82942>:1: NumbaWarning: \n",
      "Compilation is falling back to object mode WITHOUT looplifting enabled because Function \"load_raw_data\" failed type inference due to: Cannot determine Numba type of <class 'numba.core.dispatcher.LiftedLoop'>\n",
      "\n",
      "File \"<ipython-input-18-1881e5a82942>\", line 4:\n",
      "def load_raw_data(file_names, path):\n",
      "    <source elided>\n",
      "    data = np.empty((len(file_names), data_ecg_lr_size[0], data_ecg_lr_size[1]), dtype=np.float32)\n",
      "    for i in nb.prange(len(file_names)):\n",
      "    ^\n",
      "\n",
      "  @nb.jit(parallel=True)\n",
      "/home/josemiguelarana/.local/lib/python3.6/site-packages/numba/core/object_mode_passes.py:152: NumbaWarning: Function \"load_raw_data\" was compiled in object mode without forceobj=True, but has lifted loops.\n",
      "\n",
      "File \"<ipython-input-18-1881e5a82942>\", line 3:\n",
      "def load_raw_data(file_names, path):\n",
      "    data = np.empty((len(file_names), data_ecg_lr_size[0], data_ecg_lr_size[1]), dtype=np.float32)\n",
      "    ^\n",
      "\n",
      "  state.func_ir.loc))\n",
      "/home/josemiguelarana/.local/lib/python3.6/site-packages/numba/core/object_mode_passes.py:162: NumbaDeprecationWarning: \n",
      "Fall-back from the nopython compilation path to the object mode compilation path has been detected, this is deprecated behaviour.\n",
      "\n",
      "For more information visit https://numba.pydata.org/numba-doc/latest/reference/deprecation.html#deprecation-of-object-mode-fall-back-behaviour-when-using-jit\n",
      "\n",
      "File \"<ipython-input-18-1881e5a82942>\", line 3:\n",
      "def load_raw_data(file_names, path):\n",
      "    data = np.empty((len(file_names), data_ecg_lr_size[0], data_ecg_lr_size[1]), dtype=np.float32)\n",
      "    ^\n",
      "\n",
      "  state.func_ir.loc))\n",
      "<ipython-input-18-1881e5a82942>:1: NumbaWarning: \n",
      "Compilation is falling back to object mode WITHOUT looplifting enabled because Function \"load_raw_data\" failed type inference due to: non-precise type array(pyobject, 1d, C)\n",
      "During: typing of argument at <ipython-input-18-1881e5a82942> (4)\n",
      "\n",
      "File \"<ipython-input-18-1881e5a82942>\", line 4:\n",
      "def load_raw_data(file_names, path):\n",
      "    <source elided>\n",
      "    data = np.empty((len(file_names), data_ecg_lr_size[0], data_ecg_lr_size[1]), dtype=np.float32)\n",
      "    for i in nb.prange(len(file_names)):\n",
      "    ^\n",
      "\n",
      "  @nb.jit(parallel=True)\n",
      "/home/josemiguelarana/.local/lib/python3.6/site-packages/numba/core/object_mode_passes.py:152: NumbaWarning: Function \"load_raw_data\" was compiled in object mode without forceobj=True.\n",
      "\n",
      "File \"<ipython-input-18-1881e5a82942>\", line 4:\n",
      "def load_raw_data(file_names, path):\n",
      "    <source elided>\n",
      "    data = np.empty((len(file_names), data_ecg_lr_size[0], data_ecg_lr_size[1]), dtype=np.float32)\n",
      "    for i in nb.prange(len(file_names)):\n",
      "    ^\n",
      "\n",
      "  state.func_ir.loc))\n",
      "/home/josemiguelarana/.local/lib/python3.6/site-packages/numba/core/object_mode_passes.py:162: NumbaDeprecationWarning: \n",
      "Fall-back from the nopython compilation path to the object mode compilation path has been detected, this is deprecated behaviour.\n",
      "\n",
      "For more information visit https://numba.pydata.org/numba-doc/latest/reference/deprecation.html#deprecation-of-object-mode-fall-back-behaviour-when-using-jit\n",
      "\n",
      "File \"<ipython-input-18-1881e5a82942>\", line 4:\n",
      "def load_raw_data(file_names, path):\n",
      "    <source elided>\n",
      "    data = np.empty((len(file_names), data_ecg_lr_size[0], data_ecg_lr_size[1]), dtype=np.float32)\n",
      "    for i in nb.prange(len(file_names)):\n",
      "    ^\n",
      "\n",
      "  state.func_ir.loc))\n"
     ]
    }
   ],
   "source": [
    "# Load raw signal data\n",
    "X = load_raw_data(np.array(Y['filename_lr']), path)\n",
    "X = np.array(X)"
   ]
  },
  {
   "cell_type": "code",
   "execution_count": 21,
   "id": "38596aab",
   "metadata": {},
   "outputs": [],
   "source": [
    "# Load scp_statements.csv for diagnostic aggregation\n",
    "agg_df = pd.read_csv(path+'scp_statements.csv', index_col=0)\n",
    "agg_df = agg_df[agg_df.diagnostic == 1]\n",
    "\n",
    "def aggregate_diagnostic(y_dic):\n",
    "    tmp = []\n",
    "    for key in y_dic.keys():\n",
    "        if key in agg_df.index:\n",
    "            tmp.append(agg_df.loc[key].diagnostic_class)\n",
    "    return list(set(tmp))"
   ]
  },
  {
   "cell_type": "code",
   "execution_count": 22,
   "id": "a88c4160",
   "metadata": {},
   "outputs": [],
   "source": [
    "# Apply diagnostic superclass\n",
    "Y['diagnostic_superclass'] = Y.scp_codes.apply(aggregate_diagnostic)"
   ]
  },
  {
   "cell_type": "code",
   "execution_count": 23,
   "id": "cd22ec0d",
   "metadata": {},
   "outputs": [],
   "source": [
    "# Split data into train and test\n",
    "test_fold = 10\n",
    "# Train\n",
    "X_train = X[np.where(Y.strat_fold != test_fold)]\n",
    "y_train = Y[(Y.strat_fold != test_fold)].diagnostic_superclass\n",
    "# Test\n",
    "X_test = X[np.where(Y.strat_fold == test_fold)]\n",
    "y_test = Y[Y.strat_fold == test_fold].diagnostic_superclass"
   ]
  },
  {
   "cell_type": "code",
   "execution_count": 24,
   "id": "fbe4232f",
   "metadata": {},
   "outputs": [],
   "source": [
    "def binarize_output(Y_list):\n",
    "    Y = []\n",
    "    i = 0\n",
    "    for superclasses in Y_list:\n",
    "        bin_value = [0, 0, 0, 0, 0]\n",
    "        for elem in superclasses:\n",
    "            if elem == 'NORM':\n",
    "                bin_value[0] = 1\n",
    "            elif elem == 'MI':\n",
    "                bin_value[1] = 1\n",
    "            elif elem == 'STTC':\n",
    "                bin_value[2] = 1\n",
    "            elif elem == 'CD':\n",
    "                bin_value[3] = 1\n",
    "            elif elem == 'HYP':\n",
    "                bin_value[4] = 1\n",
    "            else:\n",
    "                print(\"Error\")\n",
    "                pass\n",
    "        Y.append(bin_value)\n",
    "\n",
    "    return Y"
   ]
  },
  {
   "cell_type": "code",
   "execution_count": 25,
   "id": "c04940aa",
   "metadata": {},
   "outputs": [],
   "source": [
    "# Convert target list to binary encoded array\n",
    "Y_train_bin = binarize_output(y_train)\n",
    "Y_test_bin = binarize_output(y_test)"
   ]
  },
  {
   "cell_type": "code",
   "execution_count": 26,
   "id": "0210b42c",
   "metadata": {},
   "outputs": [],
   "source": [
    "def get_normal_ecgs(Y_binary):\n",
    "    Y_out = []\n",
    "    i = 0\n",
    "    for arr in Y_binary:\n",
    "        if (arr[1]==0 and arr[2]==0 and arr[3]==0 and arr[4]==0):\n",
    "            Y_out.append(1)\n",
    "        else:\n",
    "            Y_out.append(0)\n",
    "    return Y_out"
   ]
  },
  {
   "cell_type": "code",
   "execution_count": 27,
   "id": "66f2382f",
   "metadata": {},
   "outputs": [],
   "source": [
    "# Get the indeces of X_train that are only normal\n",
    "Y_normal_ecgs = np.array(get_normal_ecgs(Y_train_bin))\n",
    "indices = np.where(Y_normal_ecgs == 1)"
   ]
  },
  {
   "cell_type": "code",
   "execution_count": 30,
   "id": "fe38e88e",
   "metadata": {},
   "outputs": [],
   "source": [
    "# Save all data in binary files\n",
    "np.save('X_train.npy', X_train)\n",
    "np.save('X_test.npy', X_test)\n",
    "np.save('y_train.npy', np.array(Y_train_bin))\n",
    "np.save('y_test.npy', Y_test_bin)\n",
    "np.save('normal_ecg_indices.npy', indices[0])"
   ]
  },
  {
   "cell_type": "code",
   "execution_count": null,
   "id": "118daced",
   "metadata": {},
   "outputs": [],
   "source": []
  }
 ],
 "metadata": {
  "kernelspec": {
   "display_name": "Python 3",
   "language": "python",
   "name": "python3"
  },
  "language_info": {
   "codemirror_mode": {
    "name": "ipython",
    "version": 3
   },
   "file_extension": ".py",
   "mimetype": "text/x-python",
   "name": "python",
   "nbconvert_exporter": "python",
   "pygments_lexer": "ipython3",
   "version": "3.6.9"
  }
 },
 "nbformat": 4,
 "nbformat_minor": 5
}
