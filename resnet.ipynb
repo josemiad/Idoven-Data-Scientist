{
 "cells": [
  {
   "cell_type": "code",
   "execution_count": 1,
   "id": "2e8735cd-7c56-460a-a772-02ba960ae9ff",
   "metadata": {},
   "outputs": [],
   "source": [
    "#!pip install pandas\n",
    "#!pip install matplotlib\n",
    "#!python -m pip install tensorflow\n",
    "#!pip install nvidia-tensorrt\n",
    "#!pip install sagemaker"
   ]
  },
  {
   "cell_type": "code",
   "execution_count": 2,
   "id": "bd33b72e-2b39-446b-aed8-786b9f5ced41",
   "metadata": {},
   "outputs": [
    {
     "name": "stderr",
     "output_type": "stream",
     "text": [
      "2023-02-19 19:56:21.809332: W tensorflow/compiler/xla/stream_executor/platform/default/dso_loader.cc:64] Could not load dynamic library 'libnvinfer.so.7'; dlerror: libnvinfer.so.7: cannot open shared object file: No such file or directory; LD_LIBRARY_PATH: /usr/local/nvidia/lib:/usr/local/nvidia/lib64\n",
      "2023-02-19 19:56:21.810639: W tensorflow/compiler/xla/stream_executor/platform/default/dso_loader.cc:64] Could not load dynamic library 'libnvinfer_plugin.so.7'; dlerror: libnvinfer_plugin.so.7: cannot open shared object file: No such file or directory; LD_LIBRARY_PATH: /usr/local/nvidia/lib:/usr/local/nvidia/lib64\n",
      "2023-02-19 19:56:21.810648: W tensorflow/compiler/tf2tensorrt/utils/py_utils.cc:38] TF-TRT Warning: Cannot dlopen some TensorRT libraries. If you would like to use Nvidia GPU with TensorRT, please make sure the missing libraries mentioned above are installed properly.\n"
     ]
    }
   ],
   "source": [
    "import pandas as pd\n",
    "import numpy as np\n",
    "import ast\n",
    "import matplotlib.pyplot as plt\n",
    "import tensorflow as tf\n",
    "from tensorflow import keras"
   ]
  },
  {
   "cell_type": "code",
   "execution_count": 3,
   "id": "db2e1e35-b000-4138-8f8b-6270a26b4939",
   "metadata": {},
   "outputs": [],
   "source": [
    "sampling_rate=100\n",
    "\n",
    "# Get the size of each sample\n",
    "input_size = (1000,12,1)"
   ]
  },
  {
   "cell_type": "code",
   "execution_count": 4,
   "id": "76c4c3ee-efce-4450-9655-fdaba2ea23d0",
   "metadata": {},
   "outputs": [],
   "source": [
    "# Train\n",
    "X_train = np.load('X_train.npy')\n",
    "y_train = np.load('y_train.npy')\n",
    "# Test\n",
    "X_test = np.load('X_test.npy')\n",
    "y_test = np.load('y_test.npy')"
   ]
  },
  {
   "cell_type": "code",
   "execution_count": 5,
   "id": "f00581fb-face-4284-8bf7-5d96ac71df61",
   "metadata": {},
   "outputs": [],
   "source": [
    "X_train_norm_1 = (X_train - np.min(X_train))/np.ptp(X_train) # [0, 1]\n",
    "X_train_norm_2 = 2.*(X_train - np.min(X_train))/np.ptp(X_train)-1 # [-1,1]"
   ]
  },
  {
   "cell_type": "code",
   "execution_count": 6,
   "id": "207e9b2f-4ffb-4cb7-9ee3-251e633ed0b9",
   "metadata": {},
   "outputs": [],
   "source": [
    "inputs = keras.Input(shape=input_size)"
   ]
  },
  {
   "cell_type": "code",
   "execution_count": 7,
   "id": "51c7125c-61bd-42cf-9208-5a22108fb488",
   "metadata": {},
   "outputs": [],
   "source": [
    "x = keras.layers.Conv2D(64, (7, 7), strides=(2, 2), padding='same')(inputs)\n",
    "x = keras.layers.BatchNormalization()(x)\n",
    "x = keras.layers.Activation('tanh')(x)"
   ]
  },
  {
   "cell_type": "code",
   "execution_count": 8,
   "id": "7d18b0f0-0ed3-4d46-975c-8a4567a9b44c",
   "metadata": {},
   "outputs": [],
   "source": [
    "def conv_block(input_tensor, filters, strides):\n",
    "    x = keras.layers.Conv2D(filters, (1, 1), strides=strides)(input_tensor)\n",
    "    x = keras.layers.BatchNormalization()(x)\n",
    "    x = keras.layers.Activation('tanh')(x)\n",
    "\n",
    "    x = keras.layers.Conv2D(filters, (3, 3), padding='same')(x)\n",
    "    x = keras.layers.BatchNormalization()(x)\n",
    "    x = keras.layers.Activation('tanh')(x)\n",
    "\n",
    "    x = keras.layers.Conv2D(4 * filters, (1, 1))(x)\n",
    "    x = keras.layers.BatchNormalization()(x)\n",
    "\n",
    "    shortcut = keras.layers.Conv2D(4 * filters, (1, 1), strides=strides)(input_tensor)\n",
    "    shortcut = keras.layers.BatchNormalization()(shortcut)\n",
    "\n",
    "    x = keras.layers.add([x, shortcut])\n",
    "    x = keras.layers.Activation('tanh')(x)\n",
    "    return x\n",
    "\n",
    "def identity_block(input_tensor, filters):\n",
    "    x = keras.layers.Conv2D(filters, (1, 1))(input_tensor)\n",
    "    x = keras.layers.BatchNormalization()(x)\n",
    "    x = keras.layers.Activation('tanh')(x)\n",
    "\n",
    "    x = keras.layers.Conv2D(filters, (3, 3), padding='same')(x)\n",
    "    x = keras.layers.BatchNormalization()(x)\n",
    "    x = keras.layers.Activation('tanh')(x)\n",
    "\n",
    "    x = keras.layers.Conv2D(4 * filters, (1, 1))(x)\n",
    "    x = keras.layers.BatchNormalization()(x)\n",
    "\n",
    "    x = keras.layers.add([x, input_tensor])\n",
    "    x = keras.layers.Activation('tanh')(x)\n",
    "    return x\n",
    "\n",
    "\n",
    "x = conv_block(x, 64, strides=(1, 1))\n",
    "x = identity_block(x, 64)\n",
    "x = identity_block(x, 64)\n",
    "\n",
    "x = conv_block(x, 128, strides=(2, 2))\n",
    "x = identity_block(x, 128)\n",
    "x = identity_block(x, 128)\n",
    "x = identity_block(x, 128)\n",
    "\n",
    "x = conv_block(x, 256, strides=(2, 2))\n",
    "x = identity_block(x, 256)\n",
    "x = identity_block(x, 256)\n",
    "x = identity_block(x, 256)\n",
    "x = identity_block(x, 256)\n",
    "x = identity_block(x, 256)\n",
    "\n",
    "x = conv_block(x, 512, strides=(2,2))\n",
    "x = identity_block(x, 512)\n",
    "x = identity_block(x, 512)\n",
    "\n",
    "x = keras.layers.GlobalAveragePooling2D()(x)\n",
    "x = keras.layers.Dense(5, activation='sigmoid')(x)"
   ]
  },
  {
   "cell_type": "code",
   "execution_count": 9,
   "id": "dd7e6527-84e2-4598-81ce-b2e878668377",
   "metadata": {},
   "outputs": [],
   "source": [
    "model = keras.Model(inputs=inputs, outputs=x, name='resnet')\n",
    "model.compile(optimizer='adadelta', loss='binary_crossentropy', metrics=['accuracy'])"
   ]
  },
  {
   "cell_type": "code",
   "execution_count": 10,
   "id": "819154d6-cd80-476b-ada8-7a002e106727",
   "metadata": {},
   "outputs": [
    {
     "name": "stdout",
     "output_type": "stream",
     "text": [
      "Epoch 1/60\n",
      "491/491 [==============================] - 212s 370ms/step - loss: 0.6658 - accuracy: 0.3772 - val_loss: 0.7162 - val_accuracy: 0.0893\n",
      "Epoch 2/60\n",
      "491/491 [==============================] - 187s 381ms/step - loss: 0.6266 - accuracy: 0.4787 - val_loss: 0.6232 - val_accuracy: 0.4902\n",
      "Epoch 3/60\n",
      "491/491 [==============================] - 190s 388ms/step - loss: 0.6027 - accuracy: 0.5131 - val_loss: 0.5940 - val_accuracy: 0.5203\n",
      "Epoch 4/60\n",
      "491/491 [==============================] - 192s 391ms/step - loss: 0.5829 - accuracy: 0.5415 - val_loss: 0.5863 - val_accuracy: 0.5259\n",
      "Epoch 5/60\n",
      "491/491 [==============================] - 192s 391ms/step - loss: 0.5691 - accuracy: 0.5532 - val_loss: 0.6003 - val_accuracy: 0.5200\n",
      "Epoch 6/60\n",
      "491/491 [==============================] - 191s 389ms/step - loss: 0.5566 - accuracy: 0.5675 - val_loss: 0.5760 - val_accuracy: 0.5402\n",
      "Epoch 7/60\n",
      "491/491 [==============================] - 192s 391ms/step - loss: 0.5448 - accuracy: 0.5797 - val_loss: 0.5481 - val_accuracy: 0.5386\n",
      "Epoch 8/60\n",
      "491/491 [==============================] - 192s 392ms/step - loss: 0.5342 - accuracy: 0.5884 - val_loss: 0.5368 - val_accuracy: 0.5547\n",
      "Epoch 9/60\n",
      "491/491 [==============================] - 191s 389ms/step - loss: 0.5252 - accuracy: 0.5983 - val_loss: 0.5448 - val_accuracy: 0.5534\n",
      "Epoch 10/60\n",
      "491/491 [==============================] - 191s 388ms/step - loss: 0.5150 - accuracy: 0.6066 - val_loss: 0.5259 - val_accuracy: 0.5667\n",
      "Epoch 11/60\n",
      "491/491 [==============================] - 190s 387ms/step - loss: 0.5055 - accuracy: 0.6178 - val_loss: 0.5451 - val_accuracy: 0.5634\n",
      "Epoch 12/60\n",
      "491/491 [==============================] - 190s 387ms/step - loss: 0.4954 - accuracy: 0.6265 - val_loss: 0.5112 - val_accuracy: 0.5833\n",
      "Epoch 13/60\n",
      "491/491 [==============================] - 190s 387ms/step - loss: 0.4873 - accuracy: 0.6328 - val_loss: 0.5260 - val_accuracy: 0.5800\n",
      "Epoch 14/60\n",
      "491/491 [==============================] - 190s 387ms/step - loss: 0.4779 - accuracy: 0.6421 - val_loss: 0.5194 - val_accuracy: 0.5769\n",
      "Epoch 15/60\n",
      "491/491 [==============================] - 190s 388ms/step - loss: 0.4683 - accuracy: 0.6570 - val_loss: 0.5185 - val_accuracy: 0.5820\n",
      "Epoch 16/60\n",
      "491/491 [==============================] - 191s 389ms/step - loss: 0.4586 - accuracy: 0.6595 - val_loss: 0.4915 - val_accuracy: 0.5955\n",
      "Epoch 17/60\n",
      "491/491 [==============================] - 192s 392ms/step - loss: 0.4491 - accuracy: 0.6691 - val_loss: 0.4984 - val_accuracy: 0.5874\n",
      "Epoch 18/60\n",
      "491/491 [==============================] - 192s 391ms/step - loss: 0.4394 - accuracy: 0.6808 - val_loss: 0.4904 - val_accuracy: 0.5983\n",
      "Epoch 19/60\n",
      "491/491 [==============================] - 191s 390ms/step - loss: 0.4302 - accuracy: 0.6864 - val_loss: 0.4950 - val_accuracy: 0.5930\n",
      "Epoch 20/60\n",
      "491/491 [==============================] - 191s 388ms/step - loss: 0.4191 - accuracy: 0.6996 - val_loss: 0.5258 - val_accuracy: 0.5756\n",
      "Epoch 21/60\n",
      "491/491 [==============================] - 190s 388ms/step - loss: 0.4093 - accuracy: 0.7099 - val_loss: 0.4779 - val_accuracy: 0.5993\n",
      "Epoch 22/60\n",
      "491/491 [==============================] - 190s 387ms/step - loss: 0.4002 - accuracy: 0.7161 - val_loss: 0.4831 - val_accuracy: 0.6034\n",
      "Epoch 23/60\n",
      "491/491 [==============================] - 190s 386ms/step - loss: 0.3915 - accuracy: 0.7234 - val_loss: 0.4725 - val_accuracy: 0.6049\n",
      "Epoch 24/60\n",
      "491/491 [==============================] - 190s 386ms/step - loss: 0.3798 - accuracy: 0.7359 - val_loss: 0.4710 - val_accuracy: 0.6044\n",
      "Epoch 25/60\n",
      "491/491 [==============================] - 190s 387ms/step - loss: 0.3690 - accuracy: 0.7460 - val_loss: 0.4765 - val_accuracy: 0.6029\n",
      "Epoch 26/60\n",
      "491/491 [==============================] - 190s 387ms/step - loss: 0.3592 - accuracy: 0.7511 - val_loss: 0.4925 - val_accuracy: 0.5914\n",
      "Epoch 27/60\n",
      "491/491 [==============================] - 190s 386ms/step - loss: 0.3492 - accuracy: 0.7595 - val_loss: 0.4669 - val_accuracy: 0.6057\n",
      "Epoch 28/60\n",
      "491/491 [==============================] - 190s 387ms/step - loss: 0.3384 - accuracy: 0.7689 - val_loss: 0.4943 - val_accuracy: 0.5988\n",
      "Epoch 29/60\n",
      "491/491 [==============================] - 190s 387ms/step - loss: 0.3306 - accuracy: 0.7740 - val_loss: 0.4797 - val_accuracy: 0.6106\n",
      "Epoch 30/60\n",
      "491/491 [==============================] - 190s 388ms/step - loss: 0.3192 - accuracy: 0.7835 - val_loss: 0.4773 - val_accuracy: 0.5937\n",
      "Epoch 31/60\n",
      "491/491 [==============================] - 190s 388ms/step - loss: 0.3088 - accuracy: 0.7905 - val_loss: 0.4694 - val_accuracy: 0.6100\n",
      "Epoch 32/60\n",
      "491/491 [==============================] - 191s 388ms/step - loss: 0.3021 - accuracy: 0.7958 - val_loss: 0.4708 - val_accuracy: 0.6149\n",
      "Epoch 33/60\n",
      "491/491 [==============================] - 191s 389ms/step - loss: 0.2927 - accuracy: 0.8017 - val_loss: 0.4704 - val_accuracy: 0.6078\n",
      "Epoch 34/60\n",
      "491/491 [==============================] - 192s 391ms/step - loss: 0.2819 - accuracy: 0.8088 - val_loss: 0.4655 - val_accuracy: 0.6136\n",
      "Epoch 35/60\n",
      "491/491 [==============================] - 192s 392ms/step - loss: 0.2734 - accuracy: 0.8127 - val_loss: 0.4621 - val_accuracy: 0.6093\n",
      "Epoch 36/60\n",
      "491/491 [==============================] - 191s 389ms/step - loss: 0.2626 - accuracy: 0.8188 - val_loss: 0.4755 - val_accuracy: 0.6072\n",
      "Epoch 37/60\n",
      "491/491 [==============================] - 189s 385ms/step - loss: 0.2544 - accuracy: 0.8255 - val_loss: 0.4598 - val_accuracy: 0.6113\n",
      "Epoch 38/60\n",
      "491/491 [==============================] - 189s 385ms/step - loss: 0.2454 - accuracy: 0.8294 - val_loss: 0.4632 - val_accuracy: 0.6111\n",
      "Epoch 39/60\n",
      "491/491 [==============================] - 189s 385ms/step - loss: 0.2357 - accuracy: 0.8351 - val_loss: 0.4577 - val_accuracy: 0.6185\n",
      "Epoch 40/60\n",
      "491/491 [==============================] - 189s 386ms/step - loss: 0.2295 - accuracy: 0.8365 - val_loss: 0.4620 - val_accuracy: 0.6080\n",
      "Epoch 41/60\n",
      "491/491 [==============================] - 189s 386ms/step - loss: 0.2208 - accuracy: 0.8426 - val_loss: 0.4597 - val_accuracy: 0.6126\n",
      "Epoch 42/60\n",
      "491/491 [==============================] - 189s 385ms/step - loss: 0.2128 - accuracy: 0.8446 - val_loss: 0.4560 - val_accuracy: 0.6100\n",
      "Epoch 43/60\n",
      "491/491 [==============================] - 189s 384ms/step - loss: 0.2032 - accuracy: 0.8496 - val_loss: 0.4654 - val_accuracy: 0.6016\n",
      "Epoch 44/60\n",
      "491/491 [==============================] - 190s 386ms/step - loss: 0.1968 - accuracy: 0.8535 - val_loss: 0.4628 - val_accuracy: 0.6195\n",
      "Epoch 45/60\n",
      "491/491 [==============================] - 190s 386ms/step - loss: 0.1883 - accuracy: 0.8571 - val_loss: 0.4588 - val_accuracy: 0.6134\n",
      "Epoch 46/60\n",
      "491/491 [==============================] - 191s 388ms/step - loss: 0.1807 - accuracy: 0.8604 - val_loss: 0.4598 - val_accuracy: 0.6111\n",
      "Epoch 47/60\n",
      "491/491 [==============================] - 191s 390ms/step - loss: 0.1732 - accuracy: 0.8597 - val_loss: 0.4587 - val_accuracy: 0.6192\n",
      "Epoch 48/60\n",
      "491/491 [==============================] - 191s 389ms/step - loss: 0.1679 - accuracy: 0.8611 - val_loss: 0.4686 - val_accuracy: 0.5998\n",
      "Epoch 49/60\n",
      "491/491 [==============================] - 190s 388ms/step - loss: 0.1611 - accuracy: 0.8681 - val_loss: 0.4664 - val_accuracy: 0.6067\n",
      "Epoch 50/60\n",
      "491/491 [==============================] - 190s 387ms/step - loss: 0.1559 - accuracy: 0.8668 - val_loss: 0.4719 - val_accuracy: 0.6149\n",
      "Epoch 51/60\n",
      "491/491 [==============================] - 190s 386ms/step - loss: 0.1487 - accuracy: 0.8697 - val_loss: 0.4696 - val_accuracy: 0.6029\n",
      "Epoch 52/60\n",
      "491/491 [==============================] - 189s 385ms/step - loss: 0.1430 - accuracy: 0.8708 - val_loss: 0.4694 - val_accuracy: 0.6108\n",
      "Epoch 53/60\n",
      "491/491 [==============================] - 188s 383ms/step - loss: 0.1375 - accuracy: 0.8718 - val_loss: 0.4738 - val_accuracy: 0.6088\n",
      "Epoch 54/60\n",
      "491/491 [==============================] - 188s 382ms/step - loss: 0.1352 - accuracy: 0.8697 - val_loss: 0.4669 - val_accuracy: 0.6251\n",
      "Epoch 55/60\n",
      "491/491 [==============================] - 187s 382ms/step - loss: 0.1301 - accuracy: 0.8739 - val_loss: 0.4760 - val_accuracy: 0.6044\n",
      "Epoch 56/60\n",
      "491/491 [==============================] - 187s 382ms/step - loss: 0.1241 - accuracy: 0.8746 - val_loss: 0.4700 - val_accuracy: 0.6136\n",
      "Epoch 57/60\n",
      "491/491 [==============================] - 187s 382ms/step - loss: 0.1215 - accuracy: 0.8736 - val_loss: 0.4745 - val_accuracy: 0.6159\n",
      "Epoch 58/60\n",
      "491/491 [==============================] - 188s 382ms/step - loss: 0.1162 - accuracy: 0.8752 - val_loss: 0.4769 - val_accuracy: 0.6006\n",
      "Epoch 59/60\n",
      "491/491 [==============================] - 188s 383ms/step - loss: 0.1125 - accuracy: 0.8762 - val_loss: 0.4746 - val_accuracy: 0.6080\n",
      "Epoch 60/60\n",
      "491/491 [==============================] - 187s 381ms/step - loss: 0.1108 - accuracy: 0.8772 - val_loss: 0.4852 - val_accuracy: 0.6123\n"
     ]
    }
   ],
   "source": [
    "history = model.fit(x=X_train_norm_2, y=y_train,\n",
    "                    batch_size=32,\n",
    "                    epochs=60, validation_split=0.2)"
   ]
  },
  {
   "cell_type": "code",
   "execution_count": 11,
   "id": "19735fb5-c9aa-473c-96ba-c1b37b09a838",
   "metadata": {},
   "outputs": [
    {
     "data": {
      "image/png": "[encoded data removed]",
      "text/plain": [
       "<Figure size 640x480 with 1 Axes>"
      ]
     },
     "metadata": {},
     "output_type": "display_data"
    }
   ],
   "source": [
    "plt.plot(history.history['accuracy'])\n",
    "plt.plot(history.history['val_accuracy'])\n",
    "plt.title('Precisión del modelo')\n",
    "plt.ylabel('Precisión')\n",
    "plt.xlabel('Época')\n",
    "plt.legend(['Entrenamiento', 'Validación'], loc='upper left')\n",
    "plt.show()"
   ]
  },
  {
   "cell_type": "code",
   "execution_count": 12,
   "id": "96e62673-9ac7-481c-967e-1508f10fee12",
   "metadata": {},
   "outputs": [
    {
     "name": "stdout",
     "output_type": "stream",
     "text": [
      "Evaluate on test data\n",
      "69/69 [==============================] - 9s 125ms/step - loss: 0.5121 - accuracy: 0.5946\n",
      "test loss, test acc: [0.5120893716812134, 0.5946314930915833]\n"
     ]
    }
   ],
   "source": [
    "# Evaluate the model on the test data using `evaluate`\n",
    "print(\"Evaluate on test data\")\n",
    "X_test_norm = 2.*(X_test - np.min(X_train))/np.ptp(X_train)-1 # [-1,1]\n",
    "results = model.evaluate(X_test_norm, y_test)\n",
    "print(\"test loss, test acc:\", results)"
   ]
  },
  {
   "cell_type": "code",
   "execution_count": 13,
   "id": "44ed1fbe-d559-4a1b-99e3-a0ef076322ef",
   "metadata": {},
   "outputs": [
    {
     "name": "stderr",
     "output_type": "stream",
     "text": [
      "WARNING:absl:Found untraced functions such as _jit_compiled_convolution_op, _jit_compiled_convolution_op, _jit_compiled_convolution_op, _jit_compiled_convolution_op, _jit_compiled_convolution_op while saving (showing 5 of 53). These functions will not be directly callable after loading.\n"
     ]
    },
    {
     "name": "stdout",
     "output_type": "stream",
     "text": [
      "INFO:tensorflow:Assets written to: resnet_model/assets\n"
     ]
    },
    {
     "name": "stderr",
     "output_type": "stream",
     "text": [
      "INFO:tensorflow:Assets written to: resnet_model/assets\n"
     ]
    }
   ],
   "source": [
    "model.save(\"resnet_model\")"
   ]
  },
  {
   "cell_type": "code",
   "execution_count": null,
   "id": "24c1f4bb-bd0f-4b3f-bd90-b6abae2ca664",
   "metadata": {},
   "outputs": [],
   "source": [
    "\n"
   ]
  }
 ],
 "metadata": {
  "kernelspec": {
   "display_name": "Python 3",
   "language": "python",
   "name": "python3"
  },
  "language_info": {
   "codemirror_mode": {
    "name": "ipython",
    "version": 3
   },
   "file_extension": ".py",
   "mimetype": "text/x-python",
   "name": "python",
   "nbconvert_exporter": "python",
   "pygments_lexer": "ipython3",
   "version": "3.6.9"
  }
 },
 "nbformat": 4,
 "nbformat_minor": 5
}
